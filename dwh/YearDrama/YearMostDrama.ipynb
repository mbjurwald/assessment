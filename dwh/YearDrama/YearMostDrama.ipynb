{
 "cells": [
  {
   "cell_type": "code",
   "execution_count": 1,
   "id": "784ff508-e2dd-4f45-b3c1-ed44b1ee1a50",
   "metadata": {
    "tags": []
   },
   "outputs": [],
   "source": [
    "import pandas as pd\n",
    "import matplotlib.pyplot as plt\n",
    "\n",
    "df = pd.read_csv('imdb_year_to_date.csv')"
   ]
  },
  {
   "cell_type": "code",
   "execution_count": 1,
   "id": "0fbb6a7c-26b5-4034-8122-66d3680101ab",
   "metadata": {
    "tags": []
   },
   "outputs": [
    {
     "ename": "NameError",
     "evalue": "name 'df' is not defined",
     "output_type": "error",
     "traceback": [
      "\u001b[0;31m---------------------------------------------------------------------------\u001b[0m",
      "\u001b[0;31mNameError\u001b[0m                                 Traceback (most recent call last)",
      "Cell \u001b[0;32mIn[1], line 4\u001b[0m\n\u001b[1;32m      1\u001b[0m \u001b[38;5;66;03m# Which year was most Drama movies released \u001b[39;00m\n\u001b[1;32m      2\u001b[0m \n\u001b[1;32m      3\u001b[0m \u001b[38;5;66;03m# Filter the DataFrame for drama genre\u001b[39;00m\n\u001b[0;32m----> 4\u001b[0m genre_drama \u001b[38;5;241m=\u001b[39m df[df[\u001b[38;5;124m'\u001b[39m\u001b[38;5;124mGenre\u001b[39m\u001b[38;5;124m'\u001b[39m] \u001b[38;5;241m==\u001b[39m \u001b[38;5;124m'\u001b[39m\u001b[38;5;124mDrama\u001b[39m\u001b[38;5;124m'\u001b[39m]\n\u001b[1;32m      6\u001b[0m \u001b[38;5;66;03m# Count the number of drama movies released per year\u001b[39;00m\n\u001b[1;32m      7\u001b[0m count_drama_yearly \u001b[38;5;241m=\u001b[39m genre_drama\u001b[38;5;241m.\u001b[39mgroupby(\u001b[38;5;124m'\u001b[39m\u001b[38;5;124mGenre\u001b[39m\u001b[38;5;124m'\u001b[39m)\u001b[38;5;241m.\u001b[39mcount()\n",
      "\u001b[0;31mNameError\u001b[0m: name 'df' is not defined"
     ]
    }
   ],
   "source": [
    "# Which year was most Drama movies released \n",
    "\n",
    "# Filter the DataFrame for drama genre\n",
    "genre_drama = df[df['Genre'] == 'Drama']\n",
    "\n",
    "# Count the number of drama movies released per year\n",
    "count_drama_yearly = genre_drama.groupby('Genre').count()\n",
    "\n",
    "# Calculate the average number of drama movies per year\n",
    "avg_drama_yearly = count_drama_yearly / df.groupby('Genre').count()\n",
    "\n",
    "# Plot the average number of drama movies released per year\n",
    "avg_drama_yearly.plot(marker='o')\n",
    "plt.title('Average Number of Drama Movies Released per Year')\n",
    "plt.xlabel('Year')\n",
    "plt.ylabel('Average Number of Drama Movies')\n",
    "plt.show()"
   ]
  },
  {
   "cell_type": "code",
   "execution_count": null,
   "id": "785aa194-5b64-4818-805d-0adf6ef44be3",
   "metadata": {},
   "outputs": [],
   "source": []
  }
 ],
 "metadata": {
  "kernelspec": {
   "display_name": "Python 3 (ipykernel)",
   "language": "python",
   "name": "python3"
  },
  "language_info": {
   "codemirror_mode": {
    "name": "ipython",
    "version": 3
   },
   "file_extension": ".py",
   "mimetype": "text/x-python",
   "name": "python",
   "nbconvert_exporter": "python",
   "pygments_lexer": "ipython3",
   "version": "3.11.5"
  }
 },
 "nbformat": 4,
 "nbformat_minor": 5
}
