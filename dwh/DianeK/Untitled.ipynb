{
 "cells": [
  {
   "cell_type": "code",
   "execution_count": null,
   "id": "874aa202-ff5f-4175-a953-e0efbc8e761f",
   "metadata": {},
   "outputs": [],
   "source": [
    "exploded_df = df.explode(\"Genre\")"
   ]
  }
 ],
 "metadata": {
  "kernelspec": {
   "display_name": "Python 3 (ipykernel)",
   "language": "python",
   "name": "python3"
  },
  "language_info": {
   "codemirror_mode": {
    "name": "ipython",
    "version": 3
   },
   "file_extension": ".py",
   "mimetype": "text/x-python",
   "name": "python",
   "nbconvert_exporter": "python",
   "pygments_lexer": "ipython3",
   "version": "3.11.5"
  }
 },
 "nbformat": 4,
 "nbformat_minor": 5
}
